{
 "cells": [
  {
   "cell_type": "markdown",
   "metadata": {},
   "source": [
    "# Reverse Words in a Given String in Python"
   ]
  },
  {
   "cell_type": "code",
   "execution_count": 11,
   "metadata": {},
   "outputs": [
    {
     "name": "stdout",
     "output_type": "stream",
     "text": [
      "code practice quiz geeks\n"
     ]
    }
   ],
   "source": [
    "# Function to reverse words of string \n",
    " \n",
    "def rev_sentence(sentence): \n",
    " \n",
    "    # first split the string into words \n",
    "    words = sentence.split(' ') \n",
    " \n",
    "    # then reverse the split string list and join using space \n",
    "    reverse_sentence = ' '.join(reversed(words)) \n",
    " \n",
    "    # finally return the joined string \n",
    "    return reverse_sentence \n",
    " \n",
    "if __name__ == \"__main__\": \n",
    "    input = \"geeks quiz practice code\"\n",
    "    print (rev_sentence(input)) "
   ]
  },
  {
   "cell_type": "markdown",
   "metadata": {},
   "source": [
    "# Python Program to Check if a String is Palindrome or Not"
   ]
  },
  {
   "cell_type": "code",
   "execution_count": 1,
   "metadata": {},
   "outputs": [
    {
     "name": "stdout",
     "output_type": "stream",
     "text": [
      "Yes\n"
     ]
    }
   ],
   "source": [
    "# function which return reverse of a string\n",
    "\n",
    "def isPalindrome(s):\n",
    "    return s == s[::-1]\n",
    "\n",
    "\n",
    "# Driver code\n",
    "s = \"malayalam\"\n",
    "ans = isPalindrome(s)\n",
    "\n",
    "if ans:\n",
    "    print(\"Yes\")\n",
    "else:\n",
    "    print(\"No\")"
   ]
  },
  {
   "cell_type": "markdown",
   "metadata": {},
   "source": [
    "# Python program to check whether the string is Symmetrical or Palindrome"
   ]
  },
  {
   "cell_type": "code",
   "execution_count": 13,
   "metadata": {},
   "outputs": [
    {
     "name": "stdout",
     "output_type": "stream",
     "text": [
      "The entered string is palindrome\n",
      "The entered string is symmetrical\n"
     ]
    }
   ],
   "source": [
    "# Python program to demonstrate\n",
    "# symmetry and palindrome of the\n",
    "# string\n",
    "\n",
    "\n",
    "# Function to check whether the\n",
    "# string is palindrome or not\n",
    "def palindrome(a):\n",
    "\n",
    "\t# finding the mid, start \n",
    "\t# and last index of the string\n",
    "\tmid = (len(a)-1)//2\t #you can remove the -1 or you add <= sign in line 21 \n",
    "\tstart = 0\t\t\t #so that you can compare the middle elements also.\n",
    "\tlast = len(a)-1\n",
    "\tflag = 0\n",
    "\n",
    "\t# A loop till the mid of the\n",
    "\t# string\n",
    "\twhile(start <= mid):\n",
    "\n",
    "\t\t# comparing letters from right\n",
    "\t\t# from the letters from left\n",
    "\t\tif (a[start]== a[last]):\n",
    "\t\t\t\n",
    "\t\t\tstart += 1\n",
    "\t\t\tlast -= 1\n",
    "\t\t\t\n",
    "\t\telse:\n",
    "\t\t\tflag = 1\n",
    "\t\t\tbreak;\n",
    "\t\t\t\n",
    "\t# Checking the flag variable to \n",
    "\t# check if the string is palindrome\n",
    "\t# or not\n",
    "\tif flag == 0:\n",
    "\t\tprint(\"The entered string is palindrome\")\n",
    "\telse:\n",
    "\t\tprint(\"The entered string is not palindrome\")\n",
    "\t\t\n",
    "# Function to check whether the\n",
    "# string is symmetrical or not\t \n",
    "def symmetry(a):\n",
    "\t\n",
    "\tn = len(a)\n",
    "\tflag = 0\n",
    "\t\n",
    "\t# Check if the string's length\n",
    "\t# is odd or even\n",
    "\tif n%2:\n",
    "\t\tmid = n//2 +1\n",
    "\telse:\n",
    "\t\tmid = n//2\n",
    "\t\t\n",
    "\tstart1 = 0\n",
    "\tstart2 = mid\n",
    "\t\n",
    "\twhile(start1 < mid and start2 < n):\n",
    "\t\t\n",
    "\t\tif (a[start1]== a[start2]):\n",
    "\t\t\tstart1 = start1 + 1\n",
    "\t\t\tstart2 = start2 + 1\n",
    "\t\telse:\n",
    "\t\t\tflag = 1\n",
    "\t\t\tbreak\n",
    "\t\n",
    "\t# Checking the flag variable to \n",
    "\t# check if the string is symmetrical\n",
    "\t# or not\n",
    "\tif flag == 0:\n",
    "\t\tprint(\"The entered string is symmetrical\")\n",
    "\telse:\n",
    "\t\tprint(\"The entered string is not symmetrical\")\n",
    "\t\t\n",
    "# Driver code\n",
    "string = 'amaama'\n",
    "palindrome(string)\n",
    "symmetry(string)"
   ]
  }
 ],
 "metadata": {
  "kernelspec": {
   "display_name": "Python 3",
   "language": "python",
   "name": "python3"
  },
  "language_info": {
   "codemirror_mode": {
    "name": "ipython",
    "version": 3
   },
   "file_extension": ".py",
   "mimetype": "text/x-python",
   "name": "python",
   "nbconvert_exporter": "python",
   "pygments_lexer": "ipython3",
   "version": "3.12.0"
  }
 },
 "nbformat": 4,
 "nbformat_minor": 2
}
