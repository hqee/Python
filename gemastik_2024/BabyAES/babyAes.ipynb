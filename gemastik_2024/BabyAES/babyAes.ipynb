{
 "cells": [
  {
   "cell_type": "code",
   "execution_count": 5,
   "metadata": {},
   "outputs": [
    {
     "name": "stdout",
     "output_type": "stream",
     "text": [
      "Welcome to the AES CBC Machine\n",
      "Give me some input, and I will encrypt it for you\n"
     ]
    },
    {
     "ename": "AssertionError",
     "evalue": "",
     "output_type": "error",
     "traceback": [
      "\u001b[1;31m---------------------------------------------------------------------------\u001b[0m",
      "\u001b[1;31mAssertionError\u001b[0m                            Traceback (most recent call last)",
      "Cell \u001b[1;32mIn[5], line 17\u001b[0m\n\u001b[0;32m     15\u001b[0m \u001b[38;5;28;01mwith\u001b[39;00m \u001b[38;5;28mopen\u001b[39m(\u001b[38;5;124m'\u001b[39m\u001b[38;5;124mflag.txt\u001b[39m\u001b[38;5;124m'\u001b[39m, \u001b[38;5;124m'\u001b[39m\u001b[38;5;124mrb\u001b[39m\u001b[38;5;124m'\u001b[39m) \u001b[38;5;28;01mas\u001b[39;00m f:\n\u001b[0;32m     16\u001b[0m     flag \u001b[38;5;241m=\u001b[39m f\u001b[38;5;241m.\u001b[39mread()\u001b[38;5;241m.\u001b[39mstrip()\n\u001b[1;32m---> 17\u001b[0m \u001b[38;5;28;01massert\u001b[39;00m \u001b[38;5;28mlen\u001b[39m(flag) \u001b[38;5;241m==\u001b[39m \u001b[38;5;241m67\u001b[39m\n\u001b[0;32m     19\u001b[0m key \u001b[38;5;241m=\u001b[39m os\u001b[38;5;241m.\u001b[39murandom(\u001b[38;5;241m16\u001b[39m)\n\u001b[0;32m     20\u001b[0m out \u001b[38;5;241m=\u001b[39m encrypt(key, flag)\n",
      "\u001b[1;31mAssertionError\u001b[0m: "
     ]
    }
   ],
   "source": [
    "#!/usr/local/bin/python\n",
    "\n",
    "from Crypto.Cipher import AES\n",
    "from Crypto.Util.Padding import pad\n",
    "import os\n",
    "\n",
    "def encrypt(key, pt):\n",
    "\tcipher = AES.new(key, AES.MODE_CBC)\n",
    "\tct = cipher.decrypt(pad(pt, 16))\n",
    "\treturn cipher.iv + ct\n",
    "\n",
    "print(f'Welcome to the AES CBC Machine')\n",
    "print(f'Give me some input, and I will encrypt it for you')\n",
    "\n",
    "with open('flag.txt', 'rb') as f:\n",
    "    flag = f.read().strip()\n",
    "assert len(flag) == 67\n",
    "\n",
    "key = os.urandom(16)\n",
    "out = encrypt(key, flag)\n",
    "print(f'This is the example of the encryption result: {out.hex()}')\n",
    "while True:\n",
    "    msg = bytes.fromhex(input('Give me your message: '))\n",
    "    print(f'Encryption result: {encrypt(key, msg).hex()}')\n"
   ]
  },
  {
   "cell_type": "code",
   "execution_count": null,
   "metadata": {},
   "outputs": [],
   "source": []
  },
  {
   "cell_type": "code",
   "execution_count": null,
   "metadata": {},
   "outputs": [],
   "source": []
  },
  {
   "cell_type": "code",
   "execution_count": null,
   "metadata": {},
   "outputs": [],
   "source": []
  }
 ],
 "metadata": {
  "kernelspec": {
   "display_name": "Python 3",
   "language": "python",
   "name": "python3"
  },
  "language_info": {
   "codemirror_mode": {
    "name": "ipython",
    "version": 3
   },
   "file_extension": ".py",
   "mimetype": "text/x-python",
   "name": "python",
   "nbconvert_exporter": "python",
   "pygments_lexer": "ipython3",
   "version": "3.12.0"
  }
 },
 "nbformat": 4,
 "nbformat_minor": 2
}
